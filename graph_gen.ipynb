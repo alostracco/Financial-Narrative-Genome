{
 "cells": [
  {
   "cell_type": "code",
   "execution_count": 36,
   "metadata": {},
   "outputs": [
    {
     "data": {
      "application/vnd.plotly.v1+json": {
       "config": {
        "plotlyServerURL": "https://plot.ly"
       },
       "data": [
        {
         "hoverinfo": "none",
         "line": {
          "color": "gray",
          "width": 4.5
         },
         "mode": "lines",
         "type": "scatter",
         "x": [
          -0.16208131042531468,
          0.08103478139002962
         ],
         "y": [
          0.6482098406387713,
          0.6734803950298008
         ]
        },
        {
         "hoverinfo": "none",
         "line": {
          "color": "gray",
          "width": 4
         },
         "mode": "lines",
         "type": "scatter",
         "x": [
          -0.16208131042531468,
          -0.27981690144075655
         ],
         "y": [
          0.6482098406387713,
          0.3446429909286206
         ]
        },
        {
         "hoverinfo": "none",
         "line": {
          "color": "gray",
          "width": 3.5
         },
         "mode": "lines",
         "type": "scatter",
         "x": [
          -0.16208131042531468,
          -0.33904530009371303
         ],
         "y": [
          0.6482098406387713,
          0.5504965428582445
         ]
        },
        {
         "hoverinfo": "none",
         "line": {
          "color": "gray",
          "width": 4
         },
         "mode": "lines",
         "type": "scatter",
         "x": [
          -0.16208131042531468,
          -0.04172745117931185
         ],
         "y": [
          0.6482098406387713,
          0.7994672668057504
         ]
        },
        {
         "hoverinfo": "none",
         "line": {
          "color": "gray",
          "width": 4
         },
         "mode": "lines",
         "type": "scatter",
         "x": [
          -0.27981690144075655,
          -0.27981690144075655
         ],
         "y": [
          0.3446429909286206,
          0.3446429909286206
         ]
        },
        {
         "hoverinfo": "none",
         "line": {
          "color": "gray",
          "width": 2.5
         },
         "mode": "lines",
         "type": "scatter",
         "x": [
          -0.33904530009371303,
          -0.24133728442668312
         ],
         "y": [
          0.5504965428582445,
          0.16044336595373557
         ]
        },
        {
         "hoverinfo": "none",
         "line": {
          "color": "gray",
          "width": 4.5
         },
         "mode": "lines",
         "type": "scatter",
         "x": [
          -0.48147022230278724,
          -0.33031653713146947
         ],
         "y": [
          -0.5367733001099521,
          -0.2851148242514937
         ]
        },
        {
         "hoverinfo": "none",
         "line": {
          "color": "gray",
          "width": 4
         },
         "mode": "lines",
         "type": "scatter",
         "x": [
          -0.48147022230278724,
          -0.6602392302994144
         ],
         "y": [
          -0.5367733001099521,
          -0.745271155626534
         ]
        },
        {
         "hoverinfo": "none",
         "line": {
          "color": "gray",
          "width": 4.5
         },
         "mode": "lines",
         "type": "scatter",
         "x": [
          -0.33031653713146947,
          -0.4144752284428247
         ],
         "y": [
          -0.2851148242514937,
          -0.10348677719389154
         ]
        },
        {
         "hoverinfo": "none",
         "line": {
          "color": "gray",
          "width": 4.5
         },
         "mode": "lines",
         "type": "scatter",
         "x": [
          -0.33031653713146947,
          -0.1835187467008126
         ],
         "y": [
          -0.2851148242514937,
          -0.15251516025468087
         ]
        },
        {
         "hoverinfo": "none",
         "line": {
          "color": "gray",
          "width": 4.5
         },
         "mode": "lines",
         "type": "scatter",
         "x": [
          0.2475990567867854,
          0.4555411713242221
         ],
         "y": [
          -0.8412257312262146,
          -0.9014013545496764
         ]
        },
        {
         "hoverinfo": "none",
         "line": {
          "color": "gray",
          "width": 3.5
         },
         "mode": "lines",
         "type": "scatter",
         "x": [
          0.2475990567867854,
          0.34922632508519524
         ],
         "y": [
          -0.8412257312262146,
          -1
         ]
        },
        {
         "hoverinfo": "none",
         "line": {
          "color": "gray",
          "width": 3.5
         },
         "mode": "lines",
         "type": "scatter",
         "x": [
          0.2475990567867854,
          0.011851824690898302
         ],
         "y": [
          -0.8412257312262146,
          -0.858371082306631
         ]
        },
        {
         "hoverinfo": "none",
         "line": {
          "color": "gray",
          "width": 4.5
         },
         "mode": "lines",
         "type": "scatter",
         "x": [
          0.5930292176016151,
          0.3694766720938586
         ],
         "y": [
          -0.20562168516827675,
          -0.13562427426755566
         ]
        },
        {
         "hoverinfo": "none",
         "line": {
          "color": "gray",
          "width": 4
         },
         "mode": "lines",
         "type": "scatter",
         "x": [
          0.5930292176016151,
          0.7332574480967756
         ],
         "y": [
          -0.20562168516827675,
          -0.4052764714892573
         ]
        },
        {
         "hoverinfo": "none",
         "line": {
          "color": "gray",
          "width": 4
         },
         "mode": "lines",
         "type": "scatter",
         "x": [
          0.5930292176016151,
          0.8854083978944661
         ],
         "y": [
          -0.20562168516827675,
          -0.23860722886013405
         ]
        },
        {
         "hoverinfo": "none",
         "line": {
          "color": "gray",
          "width": 4
         },
         "mode": "lines",
         "type": "scatter",
         "x": [
          0.5930292176016151,
          0.2587170211710162
         ],
         "y": [
          -0.20562168516827675,
          -0.046832546883187436
         ]
        },
        {
         "hoverinfo": "none",
         "line": {
          "color": "gray",
          "width": 4
         },
         "mode": "lines",
         "type": "scatter",
         "x": [
          0.5755334331726146,
          0.8139737571283301
         ],
         "y": [
          0.45931220022267955,
          0.6221904600070208
         ]
        },
        {
         "hoverinfo": "none",
         "line": {
          "color": "gray",
          "width": 3.5
         },
         "mode": "lines",
         "type": "scatter",
         "x": [
          0.5755334331726146,
          0.2895035976622878
         ],
         "y": [
          0.45931220022267955,
          0.24332446410511355
         ]
        },
        {
         "hoverinfo": "none",
         "line": {
          "color": "gray",
          "width": 2.5
         },
         "mode": "lines",
         "type": "scatter",
         "x": [
          -0.24133728442668312,
          -0.6536854912973454
         ],
         "y": [
          0.16044336595373557,
          0.19212511484647407
         ]
        },
        {
         "hoverinfo": "none",
         "line": {
          "color": "gray",
          "width": 2.5
         },
         "mode": "lines",
         "type": "scatter",
         "x": [
          -0.24133728442668312,
          -0.553952628090187
         ],
         "y": [
          0.16044336595373557,
          0.42675310783795384
         ]
        },
        {
         "hoverinfo": "none",
         "line": {
          "color": "gray",
          "width": 2.5
         },
         "mode": "lines",
         "type": "scatter",
         "x": [
          -0.24133728442668312,
          -0.1835187467008126
         ],
         "y": [
          0.16044336595373557,
          -0.15251516025468087
         ]
        },
        {
         "hoverinfo": "none",
         "line": {
          "color": "gray",
          "width": 2.5
         },
         "mode": "lines",
         "type": "scatter",
         "x": [
          -0.24133728442668312,
          0.018778041438772895
         ],
         "y": [
          0.16044336595373557,
          0.3106476044275717
         ]
        },
        {
         "hoverinfo": "none",
         "line": {
          "color": "gray",
          "width": 2.5
         },
         "mode": "lines",
         "type": "scatter",
         "x": [
          -0.24133728442668312,
          -0.3740843873558355
         ],
         "y": [
          0.16044336595373557,
          -0.28406528185140645
         ]
        },
        {
         "hoverinfo": "none",
         "line": {
          "color": "gray",
          "width": 2.5
         },
         "mode": "lines",
         "type": "scatter",
         "x": [
          -0.24133728442668312,
          0.1488425007683179
         ],
         "y": [
          0.16044336595373557,
          0.351888656725469
         ]
        },
        {
         "hoverinfo": "none",
         "line": {
          "color": "gray",
          "width": 2.5
         },
         "mode": "lines",
         "type": "scatter",
         "x": [
          -0.24133728442668312,
          -0.09362032720816625
         ],
         "y": [
          0.16044336595373557,
          0.4747848825581656
         ]
        },
        {
         "hoverinfo": "none",
         "line": {
          "color": "gray",
          "width": 2.5
         },
         "mode": "lines",
         "type": "scatter",
         "x": [
          -0.24133728442668312,
          0.2587170211710162
         ],
         "y": [
          0.16044336595373557,
          -0.046832546883187436
         ]
        },
        {
         "hoverinfo": "none",
         "line": {
          "color": "gray",
          "width": 2.5
         },
         "mode": "lines",
         "type": "scatter",
         "x": [
          -0.24133728442668312,
          -0.5699396324346618
         ],
         "y": [
          0.16044336595373557,
          0.32079091964066375
         ]
        },
        {
         "hoverinfo": "none",
         "line": {
          "color": "gray",
          "width": 2.5
         },
         "mode": "lines",
         "type": "scatter",
         "x": [
          -0.24133728442668312,
          -0.600257390597959
         ],
         "y": [
          0.16044336595373557,
          0.051364624023517096
         ]
        },
        {
         "hoverinfo": "none",
         "line": {
          "color": "gray",
          "width": 2.5
         },
         "mode": "lines",
         "type": "scatter",
         "x": [
          -0.24133728442668312,
          -0.4144752284428247
         ],
         "y": [
          0.16044336595373557,
          -0.10348677719389154
         ]
        },
        {
         "hoverinfo": "none",
         "line": {
          "color": "gray",
          "width": 2.5
         },
         "mode": "lines",
         "type": "scatter",
         "x": [
          -0.24133728442668312,
          0.14779482312205802
         ],
         "y": [
          0.16044336595373557,
          0.11026443742934013
         ]
        },
        {
         "hoverinfo": "none",
         "line": {
          "color": "gray",
          "width": 4
         },
         "mode": "lines",
         "type": "scatter",
         "x": [
          -0.553952628090187,
          -0.5699396324346618
         ],
         "y": [
          0.42675310783795384,
          0.32079091964066375
         ]
        },
        {
         "hoverinfo": "text",
         "marker": {
          "color": [
           "#FFA15A",
           "#19D3F3",
           "#19D3F3",
           "#19D3F3",
           "#19D3F3",
           "#FFA15A",
           "#19D3F3",
           "#19D3F3",
           "#FFA15A",
           "#19D3F3",
           "#19D3F3",
           "#19D3F3",
           "#FFA15A",
           "#19D3F3",
           "#19D3F3",
           "#19D3F3",
           "#FFA15A",
           "#19D3F3",
           "#19D3F3",
           "#AB63FA",
           "#EF553B",
           "#AB63FA",
           "#AB63FA",
           "#AB63FA",
           "#AB63FA",
           "#636EFA",
           "#636EFA",
           "#AB63FA",
           "#FF6692",
           "#00CC96",
           "#00CC96",
           "#FF6692"
          ],
          "line": {
           "color": "black",
           "width": 2
          },
          "opacity": 0.8,
          "size": [
           50,
           45,
           40,
           35,
           40,
           45,
           45,
           40,
           40,
           40,
           35,
           35,
           45,
           45,
           40,
           40,
           40,
           40,
           35,
           50,
           45,
           40,
           25,
           25,
           25,
           15,
           15,
           40,
           35,
           30,
           30,
           30
          ]
         },
         "mode": "markers+text",
         "text": [
          "<b>Employee<br>Safety<br>and<br>Support</b>",
          "<b>Process<br>Changes<br>for<br>Safety</b>",
          "<b>Wage Inc<br>reases<br>and<br>Overtime<br>Pay</b>",
          "<b>Amazon<br>Relief<br>Fund</b>",
          "<b>Potentia<br>l<br>Employee<br>Testing</b>",
          "<b>Meeting<br>Customer<br>Demand<br>During<br>Crisis</b>",
          "<b>Prioriti<br>zing Ess<br>ential<br>Products</b>",
          "<b>New Job<br>Creation</b>",
          "<b>Combatin<br>g Price<br>Gouging</b>",
          "<b>Removing<br>Inflated<br>Offers</b>",
          "<b>Suspendi<br>ng<br>Seller<br>Accounts</b>",
          "<b>Collabor<br>ation<br>with Att<br>orneys<br>General</b>",
          "<b>AWS<br>Support<br>for<br>COVID-19<br>Response</b>",
          "<b>Supporti<br>ng Healt<br>hcare, E<br>ducation<br>, and Go<br>vernment</b>",
          "<b>Collabor<br>ation<br>with WHO</b>",
          "<b>AWS Diag<br>nostic D<br>evelopme<br>nt Initi<br>ative</b>",
          "<b>Maintain<br>ing Esse<br>ntial<br>Services</b>",
          "<b>Keeping<br>Whole<br>Foods<br>Open</b>",
          "<b>Adjustme<br>nts to<br>Store Op<br>erations</b>",
          "<b>Amazon</b>",
          "<b>Amazonia<br>ns</b>",
          "<b>Whole<br>Foods<br>Market</b>",
          "<b>Amazon<br>Books</b>",
          "<b>Amazon<br>4-star</b>",
          "<b>Amazon<br>Pop Up</b>",
          "<b>Joe<br>Duffy</b>",
          "<b>Darby<br>Griffin</b>",
          "<b>Amazon<br>Web<br>Services<br>(AWS)</b>",
          "<b>World<br>Health O<br>rganizat<br>ion<br>(WHO)</b>",
          "<b>State At<br>torneys<br>General</b>",
          "<b>Independ<br>ent<br>Delivery<br>Service<br>Partners</b>",
          "<b>Amazon<br>Flex</b>"
         ],
         "textfont": {
          "size": [
           9,
           8.1,
           7.2,
           6.3,
           7.2,
           8.1,
           8.1,
           7.2,
           7.2,
           7.2,
           6.3,
           6.3,
           8.1,
           8.1,
           7.2,
           7.2,
           7.2,
           7.2,
           6.3,
           9,
           8.1,
           7.2,
           5,
           5,
           5,
           5,
           5,
           7.2,
           6.3,
           5.4,
           5.4,
           5.4
          ]
         },
         "textposition": "middle center",
         "type": "scatter",
         "x": [
          -0.16208131042531468,
          0.08103478139002962,
          -0.27981690144075655,
          -0.33904530009371303,
          -0.04172745117931185,
          -0.48147022230278724,
          -0.33031653713146947,
          -0.6602392302994144,
          0.2475990567867854,
          0.4555411713242221,
          0.34922632508519524,
          0.011851824690898302,
          0.5930292176016151,
          0.3694766720938586,
          0.7332574480967756,
          0.8854083978944661,
          0.5755334331726146,
          0.8139737571283301,
          0.2895035976622878,
          -0.24133728442668312,
          -0.6536854912973454,
          -0.553952628090187,
          -0.1835187467008126,
          0.018778041438772895,
          -0.3740843873558355,
          0.1488425007683179,
          -0.09362032720816625,
          0.2587170211710162,
          -0.5699396324346618,
          -0.600257390597959,
          -0.4144752284428247,
          0.14779482312205802
         ],
         "y": [
          0.6482098406387713,
          0.6734803950298008,
          0.3446429909286206,
          0.5504965428582445,
          0.7994672668057504,
          -0.5367733001099521,
          -0.2851148242514937,
          -0.745271155626534,
          -0.8412257312262146,
          -0.9014013545496764,
          -1,
          -0.858371082306631,
          -0.20562168516827675,
          -0.13562427426755566,
          -0.4052764714892573,
          -0.23860722886013405,
          0.45931220022267955,
          0.6221904600070208,
          0.24332446410511355,
          0.16044336595373557,
          0.19212511484647407,
          0.42675310783795384,
          -0.15251516025468087,
          0.3106476044275717,
          -0.28406528185140645,
          0.351888656725469,
          0.4747848825581656,
          -0.046832546883187436,
          0.32079091964066375,
          0.051364624023517096,
          -0.10348677719389154,
          0.11026443742934013
         ]
        }
       ],
       "layout": {
        "hovermode": "closest",
        "margin": {
         "b": 0,
         "l": 0,
         "r": 0,
         "t": 40
        },
        "showlegend": false,
        "template": {
         "data": {
          "bar": [
           {
            "error_x": {
             "color": "#2a3f5f"
            },
            "error_y": {
             "color": "#2a3f5f"
            },
            "marker": {
             "line": {
              "color": "#E5ECF6",
              "width": 0.5
             },
             "pattern": {
              "fillmode": "overlay",
              "size": 10,
              "solidity": 0.2
             }
            },
            "type": "bar"
           }
          ],
          "barpolar": [
           {
            "marker": {
             "line": {
              "color": "#E5ECF6",
              "width": 0.5
             },
             "pattern": {
              "fillmode": "overlay",
              "size": 10,
              "solidity": 0.2
             }
            },
            "type": "barpolar"
           }
          ],
          "carpet": [
           {
            "aaxis": {
             "endlinecolor": "#2a3f5f",
             "gridcolor": "white",
             "linecolor": "white",
             "minorgridcolor": "white",
             "startlinecolor": "#2a3f5f"
            },
            "baxis": {
             "endlinecolor": "#2a3f5f",
             "gridcolor": "white",
             "linecolor": "white",
             "minorgridcolor": "white",
             "startlinecolor": "#2a3f5f"
            },
            "type": "carpet"
           }
          ],
          "choropleth": [
           {
            "colorbar": {
             "outlinewidth": 0,
             "ticks": ""
            },
            "type": "choropleth"
           }
          ],
          "contour": [
           {
            "colorbar": {
             "outlinewidth": 0,
             "ticks": ""
            },
            "colorscale": [
             [
              0,
              "#0d0887"
             ],
             [
              0.1111111111111111,
              "#46039f"
             ],
             [
              0.2222222222222222,
              "#7201a8"
             ],
             [
              0.3333333333333333,
              "#9c179e"
             ],
             [
              0.4444444444444444,
              "#bd3786"
             ],
             [
              0.5555555555555556,
              "#d8576b"
             ],
             [
              0.6666666666666666,
              "#ed7953"
             ],
             [
              0.7777777777777778,
              "#fb9f3a"
             ],
             [
              0.8888888888888888,
              "#fdca26"
             ],
             [
              1,
              "#f0f921"
             ]
            ],
            "type": "contour"
           }
          ],
          "contourcarpet": [
           {
            "colorbar": {
             "outlinewidth": 0,
             "ticks": ""
            },
            "type": "contourcarpet"
           }
          ],
          "heatmap": [
           {
            "colorbar": {
             "outlinewidth": 0,
             "ticks": ""
            },
            "colorscale": [
             [
              0,
              "#0d0887"
             ],
             [
              0.1111111111111111,
              "#46039f"
             ],
             [
              0.2222222222222222,
              "#7201a8"
             ],
             [
              0.3333333333333333,
              "#9c179e"
             ],
             [
              0.4444444444444444,
              "#bd3786"
             ],
             [
              0.5555555555555556,
              "#d8576b"
             ],
             [
              0.6666666666666666,
              "#ed7953"
             ],
             [
              0.7777777777777778,
              "#fb9f3a"
             ],
             [
              0.8888888888888888,
              "#fdca26"
             ],
             [
              1,
              "#f0f921"
             ]
            ],
            "type": "heatmap"
           }
          ],
          "histogram": [
           {
            "marker": {
             "pattern": {
              "fillmode": "overlay",
              "size": 10,
              "solidity": 0.2
             }
            },
            "type": "histogram"
           }
          ],
          "histogram2d": [
           {
            "colorbar": {
             "outlinewidth": 0,
             "ticks": ""
            },
            "colorscale": [
             [
              0,
              "#0d0887"
             ],
             [
              0.1111111111111111,
              "#46039f"
             ],
             [
              0.2222222222222222,
              "#7201a8"
             ],
             [
              0.3333333333333333,
              "#9c179e"
             ],
             [
              0.4444444444444444,
              "#bd3786"
             ],
             [
              0.5555555555555556,
              "#d8576b"
             ],
             [
              0.6666666666666666,
              "#ed7953"
             ],
             [
              0.7777777777777778,
              "#fb9f3a"
             ],
             [
              0.8888888888888888,
              "#fdca26"
             ],
             [
              1,
              "#f0f921"
             ]
            ],
            "type": "histogram2d"
           }
          ],
          "histogram2dcontour": [
           {
            "colorbar": {
             "outlinewidth": 0,
             "ticks": ""
            },
            "colorscale": [
             [
              0,
              "#0d0887"
             ],
             [
              0.1111111111111111,
              "#46039f"
             ],
             [
              0.2222222222222222,
              "#7201a8"
             ],
             [
              0.3333333333333333,
              "#9c179e"
             ],
             [
              0.4444444444444444,
              "#bd3786"
             ],
             [
              0.5555555555555556,
              "#d8576b"
             ],
             [
              0.6666666666666666,
              "#ed7953"
             ],
             [
              0.7777777777777778,
              "#fb9f3a"
             ],
             [
              0.8888888888888888,
              "#fdca26"
             ],
             [
              1,
              "#f0f921"
             ]
            ],
            "type": "histogram2dcontour"
           }
          ],
          "mesh3d": [
           {
            "colorbar": {
             "outlinewidth": 0,
             "ticks": ""
            },
            "type": "mesh3d"
           }
          ],
          "parcoords": [
           {
            "line": {
             "colorbar": {
              "outlinewidth": 0,
              "ticks": ""
             }
            },
            "type": "parcoords"
           }
          ],
          "pie": [
           {
            "automargin": true,
            "type": "pie"
           }
          ],
          "scatter": [
           {
            "fillpattern": {
             "fillmode": "overlay",
             "size": 10,
             "solidity": 0.2
            },
            "type": "scatter"
           }
          ],
          "scatter3d": [
           {
            "line": {
             "colorbar": {
              "outlinewidth": 0,
              "ticks": ""
             }
            },
            "marker": {
             "colorbar": {
              "outlinewidth": 0,
              "ticks": ""
             }
            },
            "type": "scatter3d"
           }
          ],
          "scattercarpet": [
           {
            "marker": {
             "colorbar": {
              "outlinewidth": 0,
              "ticks": ""
             }
            },
            "type": "scattercarpet"
           }
          ],
          "scattergeo": [
           {
            "marker": {
             "colorbar": {
              "outlinewidth": 0,
              "ticks": ""
             }
            },
            "type": "scattergeo"
           }
          ],
          "scattergl": [
           {
            "marker": {
             "colorbar": {
              "outlinewidth": 0,
              "ticks": ""
             }
            },
            "type": "scattergl"
           }
          ],
          "scattermap": [
           {
            "marker": {
             "colorbar": {
              "outlinewidth": 0,
              "ticks": ""
             }
            },
            "type": "scattermap"
           }
          ],
          "scattermapbox": [
           {
            "marker": {
             "colorbar": {
              "outlinewidth": 0,
              "ticks": ""
             }
            },
            "type": "scattermapbox"
           }
          ],
          "scatterpolar": [
           {
            "marker": {
             "colorbar": {
              "outlinewidth": 0,
              "ticks": ""
             }
            },
            "type": "scatterpolar"
           }
          ],
          "scatterpolargl": [
           {
            "marker": {
             "colorbar": {
              "outlinewidth": 0,
              "ticks": ""
             }
            },
            "type": "scatterpolargl"
           }
          ],
          "scatterternary": [
           {
            "marker": {
             "colorbar": {
              "outlinewidth": 0,
              "ticks": ""
             }
            },
            "type": "scatterternary"
           }
          ],
          "surface": [
           {
            "colorbar": {
             "outlinewidth": 0,
             "ticks": ""
            },
            "colorscale": [
             [
              0,
              "#0d0887"
             ],
             [
              0.1111111111111111,
              "#46039f"
             ],
             [
              0.2222222222222222,
              "#7201a8"
             ],
             [
              0.3333333333333333,
              "#9c179e"
             ],
             [
              0.4444444444444444,
              "#bd3786"
             ],
             [
              0.5555555555555556,
              "#d8576b"
             ],
             [
              0.6666666666666666,
              "#ed7953"
             ],
             [
              0.7777777777777778,
              "#fb9f3a"
             ],
             [
              0.8888888888888888,
              "#fdca26"
             ],
             [
              1,
              "#f0f921"
             ]
            ],
            "type": "surface"
           }
          ],
          "table": [
           {
            "cells": {
             "fill": {
              "color": "#EBF0F8"
             },
             "line": {
              "color": "white"
             }
            },
            "header": {
             "fill": {
              "color": "#C8D4E3"
             },
             "line": {
              "color": "white"
             }
            },
            "type": "table"
           }
          ]
         },
         "layout": {
          "annotationdefaults": {
           "arrowcolor": "#2a3f5f",
           "arrowhead": 0,
           "arrowwidth": 1
          },
          "autotypenumbers": "strict",
          "coloraxis": {
           "colorbar": {
            "outlinewidth": 0,
            "ticks": ""
           }
          },
          "colorscale": {
           "diverging": [
            [
             0,
             "#8e0152"
            ],
            [
             0.1,
             "#c51b7d"
            ],
            [
             0.2,
             "#de77ae"
            ],
            [
             0.3,
             "#f1b6da"
            ],
            [
             0.4,
             "#fde0ef"
            ],
            [
             0.5,
             "#f7f7f7"
            ],
            [
             0.6,
             "#e6f5d0"
            ],
            [
             0.7,
             "#b8e186"
            ],
            [
             0.8,
             "#7fbc41"
            ],
            [
             0.9,
             "#4d9221"
            ],
            [
             1,
             "#276419"
            ]
           ],
           "sequential": [
            [
             0,
             "#0d0887"
            ],
            [
             0.1111111111111111,
             "#46039f"
            ],
            [
             0.2222222222222222,
             "#7201a8"
            ],
            [
             0.3333333333333333,
             "#9c179e"
            ],
            [
             0.4444444444444444,
             "#bd3786"
            ],
            [
             0.5555555555555556,
             "#d8576b"
            ],
            [
             0.6666666666666666,
             "#ed7953"
            ],
            [
             0.7777777777777778,
             "#fb9f3a"
            ],
            [
             0.8888888888888888,
             "#fdca26"
            ],
            [
             1,
             "#f0f921"
            ]
           ],
           "sequentialminus": [
            [
             0,
             "#0d0887"
            ],
            [
             0.1111111111111111,
             "#46039f"
            ],
            [
             0.2222222222222222,
             "#7201a8"
            ],
            [
             0.3333333333333333,
             "#9c179e"
            ],
            [
             0.4444444444444444,
             "#bd3786"
            ],
            [
             0.5555555555555556,
             "#d8576b"
            ],
            [
             0.6666666666666666,
             "#ed7953"
            ],
            [
             0.7777777777777778,
             "#fb9f3a"
            ],
            [
             0.8888888888888888,
             "#fdca26"
            ],
            [
             1,
             "#f0f921"
            ]
           ]
          },
          "colorway": [
           "#636efa",
           "#EF553B",
           "#00cc96",
           "#ab63fa",
           "#FFA15A",
           "#19d3f3",
           "#FF6692",
           "#B6E880",
           "#FF97FF",
           "#FECB52"
          ],
          "font": {
           "color": "#2a3f5f"
          },
          "geo": {
           "bgcolor": "white",
           "lakecolor": "white",
           "landcolor": "#E5ECF6",
           "showlakes": true,
           "showland": true,
           "subunitcolor": "white"
          },
          "hoverlabel": {
           "align": "left"
          },
          "hovermode": "closest",
          "mapbox": {
           "style": "light"
          },
          "paper_bgcolor": "white",
          "plot_bgcolor": "#E5ECF6",
          "polar": {
           "angularaxis": {
            "gridcolor": "white",
            "linecolor": "white",
            "ticks": ""
           },
           "bgcolor": "#E5ECF6",
           "radialaxis": {
            "gridcolor": "white",
            "linecolor": "white",
            "ticks": ""
           }
          },
          "scene": {
           "xaxis": {
            "backgroundcolor": "#E5ECF6",
            "gridcolor": "white",
            "gridwidth": 2,
            "linecolor": "white",
            "showbackground": true,
            "ticks": "",
            "zerolinecolor": "white"
           },
           "yaxis": {
            "backgroundcolor": "#E5ECF6",
            "gridcolor": "white",
            "gridwidth": 2,
            "linecolor": "white",
            "showbackground": true,
            "ticks": "",
            "zerolinecolor": "white"
           },
           "zaxis": {
            "backgroundcolor": "#E5ECF6",
            "gridcolor": "white",
            "gridwidth": 2,
            "linecolor": "white",
            "showbackground": true,
            "ticks": "",
            "zerolinecolor": "white"
           }
          },
          "shapedefaults": {
           "line": {
            "color": "#2a3f5f"
           }
          },
          "ternary": {
           "aaxis": {
            "gridcolor": "white",
            "linecolor": "white",
            "ticks": ""
           },
           "baxis": {
            "gridcolor": "white",
            "linecolor": "white",
            "ticks": ""
           },
           "bgcolor": "#E5ECF6",
           "caxis": {
            "gridcolor": "white",
            "linecolor": "white",
            "ticks": ""
           }
          },
          "title": {
           "x": 0.05
          },
          "xaxis": {
           "automargin": true,
           "gridcolor": "white",
           "linecolor": "white",
           "ticks": "",
           "title": {
            "standoff": 15
           },
           "zerolinecolor": "white",
           "zerolinewidth": 2
          },
          "yaxis": {
           "automargin": true,
           "gridcolor": "white",
           "linecolor": "white",
           "ticks": "",
           "title": {
            "standoff": 15
           },
           "zerolinecolor": "white",
           "zerolinewidth": 2
          }
         }
        },
        "title": {
         "text": "Interactive Narrative Genome Graph (Zoom & Pan Enabled)"
        },
        "xaxis": {
         "showgrid": false,
         "showticklabels": false,
         "zeroline": false
        },
        "yaxis": {
         "showgrid": false,
         "showticklabels": false,
         "zeroline": false
        }
       }
      }
     },
     "metadata": {},
     "output_type": "display_data"
    }
   ],
   "source": [
    "import json\n",
    "import networkx as nx\n",
    "import plotly.graph_objects as go\n",
    "import plotly.express as px\n",
    "import textwrap\n",
    "\n",
    "# Load JSON file\n",
    "with open(\"narrative_genome.json\", \"r\") as f:\n",
    "    data = json.load(f)\n",
    "\n",
    "# Create graph\n",
    "G = nx.Graph()\n",
    "\n",
    "# Extract unique node types for color mapping\n",
    "unique_types = list(set(node[\"type\"] for node in data[\"nodes\"]))\n",
    "color_map = {t: px.colors.qualitative.Plotly[i % len(px.colors.qualitative.Plotly)] for i, t in enumerate(unique_types)}\n",
    "\n",
    "# Add nodes with importance as node size and color based on type\n",
    "for node in data[\"nodes\"]:\n",
    "    importance = float(node[\"importance\"])  # Convert importance to float\n",
    "    G.add_node(node[\"id\"], size=importance, type=node[\"type\"], color=color_map[node[\"type\"]])\n",
    "\n",
    "# Add edges with importance as edge width\n",
    "for edge in data[\"edges\"]:\n",
    "    weight = float(edge[\"importance\"])  # Convert importance to float\n",
    "    G.add_edge(edge[\"source\"], edge[\"target\"], weight=weight)\n",
    "\n",
    "# Get positions using force-directed layout with more spread\n",
    "pos = nx.spring_layout(G, k=1.5, iterations=100, seed=42)  # Increased k for more spread\n",
    "\n",
    "# Extract node and edge data for Plotly\n",
    "node_x, node_y, node_sizes, node_colors, node_labels, node_font_sizes = [], [], [], [], [], []\n",
    "for node in G.nodes():\n",
    "    x, y = pos[node]\n",
    "    node_x.append(x)\n",
    "    node_y.append(y)\n",
    "    node_sizes.append(G.nodes[node][\"size\"] * 5)  # Reduce size scaling\n",
    "    node_colors.append(G.nodes[node][\"color\"])\n",
    "    # Wrap node labels to fit within nodes\n",
    "    wrapped_label = \"<b>\" + \"<br>\".join(textwrap.wrap(node, width=8)) + \"</b>\"  # Reduced width, bold text\n",
    "    node_labels.append(wrapped_label)\n",
    "    # Shrink font size based on node size (importance)\n",
    "    font_size = max(5, min(10, G.nodes[node][\"size\"] * 0.9))  # Further reduced font sizes and multiplier\n",
    "    node_font_sizes.append(font_size)\n",
    "\n",
    "# Create Plotly figure\n",
    "fig = go.Figure()\n",
    "\n",
    "# Add edges (one trace per edge)\n",
    "for edge in G.edges():\n",
    "    x0, y0 = pos[edge[0]]\n",
    "    x1, y1 = pos[edge[1]]\n",
    "    width = G.edges[edge]['weight'] * 0.5 #scale down the edge width.\n",
    "    fig.add_trace(go.Scatter(\n",
    "        x=[x0, x1],\n",
    "        y=[y0, y1],\n",
    "        line=dict(width=width, color='gray'),\n",
    "        hoverinfo='none',\n",
    "        mode='lines'\n",
    "    ))\n",
    "\n",
    "# Add nodes with labels inside\n",
    "fig.add_trace(go.Scatter(\n",
    "    x=node_x, y=node_y,\n",
    "    mode='markers+text',\n",
    "    text=node_labels,\n",
    "    textposition=\"middle center\",  # Position text inside nodes\n",
    "    hoverinfo='text',\n",
    "    textfont=dict(size=node_font_sizes),  # Apply dynamic font sizes\n",
    "    marker=dict(\n",
    "        size=node_sizes,\n",
    "        color=node_colors,\n",
    "        opacity=0.8,\n",
    "        line=dict(width=2, color='black')\n",
    "    )\n",
    "))\n",
    "\n",
    "# Update layout for better interactivity\n",
    "fig.update_layout(\n",
    "    title=\"Interactive Narrative Genome Graph (Zoom & Pan Enabled)\",\n",
    "    showlegend=False,\n",
    "    hovermode='closest',\n",
    "    margin=dict(b=0, l=0, r=0, t=40),\n",
    "    xaxis=dict(showgrid=False, zeroline=False, showticklabels=False),\n",
    "    yaxis=dict(showgrid=False, zeroline=False, showticklabels=False),\n",
    ")\n",
    "\n",
    "# Show interactive plot\n",
    "fig.show()\n"
   ]
  }
 ],
 "metadata": {
  "kernelspec": {
   "display_name": "Python 3",
   "language": "python",
   "name": "python3"
  },
  "language_info": {
   "codemirror_mode": {
    "name": "ipython",
    "version": 3
   },
   "file_extension": ".py",
   "mimetype": "text/x-python",
   "name": "python",
   "nbconvert_exporter": "python",
   "pygments_lexer": "ipython3",
   "version": "3.12.2"
  }
 },
 "nbformat": 4,
 "nbformat_minor": 2
}
