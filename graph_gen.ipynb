{
 "cells": [
  {
   "cell_type": "code",
   "execution_count": 27,
   "metadata": {},
   "outputs": [
    {
     "data": {
      "application/vnd.plotly.v1+json": {
       "config": {
        "plotlyServerURL": "https://plot.ly"
       },
       "data": [
        {
         "hoverinfo": "none",
         "line": {
          "color": "gray",
          "width": 4
         },
         "mode": "lines",
         "type": "scatter",
         "x": [
          -0.4791679811634959,
          -0.1433357282821679
         ],
         "y": [
          0.6136795709936287,
          0.6360359255344431
         ]
        },
        {
         "hoverinfo": "none",
         "line": {
          "color": "gray",
          "width": 4.5
         },
         "mode": "lines",
         "type": "scatter",
         "x": [
          -0.4791679811634959,
          -0.5090013075555144
         ],
         "y": [
          0.6136795709936287,
          0.3935757281071383
         ]
        },
        {
         "hoverinfo": "none",
         "line": {
          "color": "gray",
          "width": 4.5
         },
         "mode": "lines",
         "type": "scatter",
         "x": [
          -0.4791679811634959,
          -0.7527928533915178
         ],
         "y": [
          0.6136795709936287,
          0.6810880278228068
         ]
        },
        {
         "hoverinfo": "none",
         "line": {
          "color": "gray",
          "width": 4.5
         },
         "mode": "lines",
         "type": "scatter",
         "x": [
          -0.433796718031674,
          -0.5772292518031671
         ],
         "y": [
          -0.13753527296797027,
          0.11287581233354045
         ]
        },
        {
         "hoverinfo": "none",
         "line": {
          "color": "gray",
          "width": 4.5
         },
         "mode": "lines",
         "type": "scatter",
         "x": [
          -0.433796718031674,
          -0.1550044809182097
         ],
         "y": [
          -0.13753527296797027,
          -0.1398071330979882
         ]
        },
        {
         "hoverinfo": "none",
         "line": {
          "color": "gray",
          "width": 4
         },
         "mode": "lines",
         "type": "scatter",
         "x": [
          -0.433796718031674,
          -0.6895467269074131
         ],
         "y": [
          -0.13753527296797027,
          -0.23703116899185792
         ]
        },
        {
         "hoverinfo": "none",
         "line": {
          "color": "gray",
          "width": 3.5
         },
         "mode": "lines",
         "type": "scatter",
         "x": [
          -0.433796718031674,
          -0.7048887087415026
         ],
         "y": [
          -0.13753527296797027,
          0.02033756181163419
         ]
        },
        {
         "hoverinfo": "none",
         "line": {
          "color": "gray",
          "width": 4
         },
         "mode": "lines",
         "type": "scatter",
         "x": [
          -0.433796718031674,
          -0.18151700922140038
         ],
         "y": [
          -0.13753527296797027,
          0.0618758016197168
         ]
        },
        {
         "hoverinfo": "none",
         "line": {
          "color": "gray",
          "width": 4
         },
         "mode": "lines",
         "type": "scatter",
         "x": [
          -0.433796718031674,
          -0.3517779266994053
         ],
         "y": [
          -0.13753527296797027,
          -0.4976311478108571
         ]
        },
        {
         "hoverinfo": "none",
         "line": {
          "color": "gray",
          "width": 4
         },
         "mode": "lines",
         "type": "scatter",
         "x": [
          0.11780306146079167,
          0.38369072971271223
         ],
         "y": [
          -0.9024607681578617,
          -0.9296862351141146
         ]
        },
        {
         "hoverinfo": "none",
         "line": {
          "color": "gray",
          "width": 4
         },
         "mode": "lines",
         "type": "scatter",
         "x": [
          0.11780306146079167,
          -0.1957414569975855
         ],
         "y": [
          -0.9024607681578617,
          -0.8294607872039866
         ]
        },
        {
         "hoverinfo": "none",
         "line": {
          "color": "gray",
          "width": 4
         },
         "mode": "lines",
         "type": "scatter",
         "x": [
          0.281666411954202,
          -0.053964706157417025
         ],
         "y": [
          -0.3565125232391766,
          -0.24710943430836788
         ]
        },
        {
         "hoverinfo": "none",
         "line": {
          "color": "gray",
          "width": 3.5
         },
         "mode": "lines",
         "type": "scatter",
         "x": [
          0.281666411954202,
          0.3705538288057576
         ],
         "y": [
          -0.3565125232391766,
          -0.6770795487426915
         ]
        },
        {
         "hoverinfo": "none",
         "line": {
          "color": "gray",
          "width": 3.5
         },
         "mode": "lines",
         "type": "scatter",
         "x": [
          0.281666411954202,
          0.5120083611199802
         ],
         "y": [
          -0.3565125232391766,
          -0.0913226101605645
         ]
        },
        {
         "hoverinfo": "none",
         "line": {
          "color": "gray",
          "width": 4
         },
         "mode": "lines",
         "type": "scatter",
         "x": [
          -0.39777310077006733,
          -0.40189148853606194
         ],
         "y": [
          0.17804073468583345,
          0.43623653300497134
         ]
        },
        {
         "hoverinfo": "none",
         "line": {
          "color": "gray",
          "width": 3.5
         },
         "mode": "lines",
         "type": "scatter",
         "x": [
          -0.39777310077006733,
          -0.18151700922140038
         ],
         "y": [
          0.17804073468583345,
          0.0618758016197168
         ]
        },
        {
         "hoverinfo": "none",
         "line": {
          "color": "gray",
          "width": 4.5
         },
         "mode": "lines",
         "type": "scatter",
         "x": [
          -0.39777310077006733,
          -0.5287986412498498
         ],
         "y": [
          0.17804073468583345,
          -0.05545622016052994
         ]
        },
        {
         "hoverinfo": "none",
         "line": {
          "color": "gray",
          "width": 3.5
         },
         "mode": "lines",
         "type": "scatter",
         "x": [
          -0.16456578906422603,
          0.14760649584184227
         ],
         "y": [
          -0.7295097971883103,
          -0.8445072538396884
         ]
        },
        {
         "hoverinfo": "none",
         "line": {
          "color": "gray",
          "width": 4.5
         },
         "mode": "lines",
         "type": "scatter",
         "x": [
          -0.16456578906422603,
          -0.3517779266994053
         ],
         "y": [
          -0.7295097971883103,
          -0.4976311478108571
         ]
        },
        {
         "hoverinfo": "none",
         "line": {
          "color": "gray",
          "width": 4
         },
         "mode": "lines",
         "type": "scatter",
         "x": [
          -0.6312196965293255,
          -0.5375452626770896
         ],
         "y": [
          0.806572718126296,
          0.8001693972005961
         ]
        },
        {
         "hoverinfo": "none",
         "line": {
          "color": "gray",
          "width": 4.5
         },
         "mode": "lines",
         "type": "scatter",
         "x": [
          -0.6312196965293255,
          -0.4301047365985215
         ],
         "y": [
          0.806572718126296,
          0.7763418616538674
         ]
        },
        {
         "hoverinfo": "none",
         "line": {
          "color": "gray",
          "width": 4.5
         },
         "mode": "lines",
         "type": "scatter",
         "x": [
          -0.6312196965293255,
          -0.6312196965293255
         ],
         "y": [
          0.806572718126296,
          0.806572718126296
         ]
        },
        {
         "hoverinfo": "none",
         "line": {
          "color": "gray",
          "width": 4
         },
         "mode": "lines",
         "type": "scatter",
         "x": [
          0.6136397447221436,
          0.9900339807710891
         ],
         "y": [
          0.36697650458041114,
          0.24093348963076147
         ]
        },
        {
         "hoverinfo": "none",
         "line": {
          "color": "gray",
          "width": 3.5
         },
         "mode": "lines",
         "type": "scatter",
         "x": [
          0.6136397447221436,
          0.8474159257270345
         ],
         "y": [
          0.36697650458041114,
          0.6010512698869972
         ]
        },
        {
         "hoverinfo": "none",
         "line": {
          "color": "gray",
          "width": 3.5
         },
         "mode": "lines",
         "type": "scatter",
         "x": [
          0.6136397447221436,
          0.4977770483502336
         ],
         "y": [
          0.36697650458041114,
          0.6883507805830085
         ]
        },
        {
         "hoverinfo": "none",
         "line": {
          "color": "gray",
          "width": 4
         },
         "mode": "lines",
         "type": "scatter",
         "x": [
          -0.821656188301289,
          -0.9330844793152161
         ],
         "y": [
          -0.5785731024471418,
          -0.3683364307513676
         ]
        },
        {
         "hoverinfo": "none",
         "line": {
          "color": "gray",
          "width": 3.5
         },
         "mode": "lines",
         "type": "scatter",
         "x": [
          -0.821656188301289,
          -0.5866395258219349
         ],
         "y": [
          -0.5785731024471418,
          -0.7489440351692069
         ]
        },
        {
         "hoverinfo": "none",
         "line": {
          "color": "gray",
          "width": 3.5
         },
         "mode": "lines",
         "type": "scatter",
         "x": [
          0.07566988483602251,
          0.027979895163181345
         ],
         "y": [
          0.5723522954745235,
          0.6606349054026307
         ]
        },
        {
         "hoverinfo": "none",
         "line": {
          "color": "gray",
          "width": 3.5
         },
         "mode": "lines",
         "type": "scatter",
         "x": [
          0.07566988483602251,
          -0.032165263325127036
         ],
         "y": [
          0.5723522954745235,
          0.9611338321992338
         ]
        },
        {
         "hoverinfo": "none",
         "line": {
          "color": "gray",
          "width": 2.5
         },
         "mode": "lines",
         "type": "scatter",
         "x": [
          0.5783786784405828,
          0.019689135835180796
         ],
         "y": [
          0.32779311448798976,
          0.3790776453578317
         ]
        },
        {
         "hoverinfo": "none",
         "line": {
          "color": "gray",
          "width": 2.5
         },
         "mode": "lines",
         "type": "scatter",
         "x": [
          0.5783786784405828,
          0.7521800376741646
         ],
         "y": [
          0.32779311448798976,
          0.17935581728021693
         ]
        },
        {
         "hoverinfo": "none",
         "line": {
          "color": "gray",
          "width": 2.5
         },
         "mode": "lines",
         "type": "scatter",
         "x": [
          0.5783786784405828,
          0.7176293760900028
         ],
         "y": [
          0.32779311448798976,
          0.6147834270052438
         ]
        },
        {
         "hoverinfo": "none",
         "line": {
          "color": "gray",
          "width": 2.5
         },
         "mode": "lines",
         "type": "scatter",
         "x": [
          0.5783786784405828,
          0.9372878821240639
         ],
         "y": [
          0.32779311448798976,
          0.3663651931842779
         ]
        },
        {
         "hoverinfo": "none",
         "line": {
          "color": "gray",
          "width": 2.5
         },
         "mode": "lines",
         "type": "scatter",
         "x": [
          0.5783786784405828,
          0.5120083611199802
         ],
         "y": [
          0.32779311448798976,
          -0.0913226101605645
         ]
        },
        {
         "hoverinfo": "none",
         "line": {
          "color": "gray",
          "width": 2.5
         },
         "mode": "lines",
         "type": "scatter",
         "x": [
          0.5783786784405828,
          0.9408640754743546
         ],
         "y": [
          0.32779311448798976,
          0.2891926840029634
         ]
        },
        {
         "hoverinfo": "none",
         "line": {
          "color": "gray",
          "width": 2.5
         },
         "mode": "lines",
         "type": "scatter",
         "x": [
          0.5783786784405828,
          0.5820137247333661
         ],
         "y": [
          0.32779311448798976,
          0.7103116420144151
         ]
        },
        {
         "hoverinfo": "none",
         "line": {
          "color": "gray",
          "width": 4
         },
         "mode": "lines",
         "type": "scatter",
         "x": [
          0.7521800376741646,
          0.9372878821240639
         ],
         "y": [
          0.17935581728021693,
          0.3663651931842779
         ]
        },
        {
         "hoverinfo": "none",
         "line": {
          "color": "gray",
          "width": 2.5
         },
         "mode": "lines",
         "type": "scatter",
         "x": [
          -1,
          -0.5287986412498498
         ],
         "y": [
          0.13737365378255417,
          -0.05545622016052994
         ]
        },
        {
         "hoverinfo": "none",
         "line": {
          "color": "gray",
          "width": 2.5
         },
         "mode": "lines",
         "type": "scatter",
         "x": [
          -0.5287986412498498,
          -0.9851845641003399
         ],
         "y": [
          -0.05545622016052994,
          -0.15134602973720807
         ]
        },
        {
         "hoverinfo": "none",
         "line": {
          "color": "gray",
          "width": 2.5
         },
         "mode": "lines",
         "type": "scatter",
         "x": [
          0.07624330945204832,
          0.3453514904958086
         ],
         "y": [
          -0.895692202236598,
          -0.6246834536017045
         ]
        },
        {
         "hoverinfo": "none",
         "line": {
          "color": "gray",
          "width": 2.5
         },
         "mode": "lines",
         "type": "scatter",
         "x": [
          -0.020986221809260616,
          0.3695892207411304
         ],
         "y": [
          -0.9140781226918142,
          -0.8796177464538777
         ]
        },
        {
         "hoverinfo": "none",
         "line": {
          "color": "gray",
          "width": 2.5
         },
         "mode": "lines",
         "type": "scatter",
         "x": [
          0.45240074956374177,
          0.3721774610587077
         ],
         "y": [
          0.5916114485473152,
          0.3406573092901892
         ]
        },
        {
         "hoverinfo": "text",
         "marker": {
          "color": [
           "#636EFA",
           "#EF553B",
           "#EF553B",
           "#EF553B",
           "#636EFA",
           "#EF553B",
           "#EF553B",
           "#EF553B",
           "#EF553B",
           "#636EFA",
           "#EF553B",
           "#EF553B",
           "#636EFA",
           "#EF553B",
           "#EF553B",
           "#636EFA",
           "#EF553B",
           "#EF553B",
           "#636EFA",
           "#EF553B",
           "#EF553B",
           "#636EFA",
           "#EF553B",
           "#EF553B",
           "#636EFA",
           "#EF553B",
           "#EF553B",
           "#EF553B",
           "#636EFA",
           "#EF553B",
           "#EF553B",
           "#636EFA",
           "#EF553B",
           "#EF553B",
           "#00CC96",
           "#B6E880",
           "#AB63FA",
           "#B6E880",
           "#00CC96",
           "#B6E880",
           "#FFA15A",
           "#00CC96",
           "#FFA15A",
           "#FFA15A",
           "#00CC96",
           "#FF6692",
           "#FFA15A",
           "#FFA15A",
           "#FFA15A",
           "#FFA15A",
           "#FFA15A",
           "#FFA15A",
           "#B6E880",
           "#19D3F3",
           "#00CC96",
           "#00CC96",
           "#FFA15A",
           "#AB63FA",
           "#AB63FA",
           "#AB63FA",
           "#AB63FA",
           "#AB63FA",
           "#AB63FA",
           "#AB63FA",
           "grey",
           "grey"
          ],
          "line": {
           "color": "black",
           "width": 2
          },
          "opacity": 0.8,
          "size": [
           50,
           45,
           45,
           45,
           50,
           45,
           45,
           40,
           35,
           45,
           40,
           40,
           40,
           40,
           35,
           35,
           40,
           35,
           40,
           35,
           35,
           40,
           40,
           35,
           35,
           40,
           35,
           35,
           35,
           40,
           35,
           35,
           35,
           35,
           50,
           45,
           45,
           40,
           40,
           40,
           35,
           35,
           30,
           30,
           30,
           30,
           30,
           25,
           25,
           25,
           25,
           25,
           25,
           20,
           15,
           15,
           15,
           15,
           15,
           15,
           15,
           15,
           15,
           15,
           5,
           5
          ]
         },
         "mode": "markers+text",
         "text": [
          "<b>Customer<br>Obsessio<br>n</b>",
          "<b>Delighti<br>ng Custo<br>mers</b>",
          "<b>Improvin<br>g<br>Customer<br>Experien<br>ce</b>",
          "<b>Meeting<br>Customer<br>Needs</b>",
          "<b>Innovati<br>on and I<br>nvention</b>",
          "<b>Bold<br>Bets and<br>Experime<br>ntation</b>",
          "<b>Technolo<br>gy and E<br>ngineeri<br>ng Excel<br>lence</b>",
          "<b>Problem<br>Solving</b>",
          "<b>Embracin<br>g<br>Failure</b>",
          "<b>Long-<br>Term<br>Vision</b>",
          "<b>Sustaina<br>ble<br>Growth</b>",
          "<b>Building<br>an<br>Enduring<br>Franchis<br>e</b>",
          "<b>Operatio<br>nal Exce<br>llence</b>",
          "<b>Efficien<br>cy and S<br>calabili<br>ty</b>",
          "<b>Infrastr<br>ucture D<br>evelopme<br>nt</b>",
          "<b>Empowerm<br>ent of<br>Sellers<br>and<br>Authors</b>",
          "<b>Providin<br>g Tools<br>and<br>Services</b>",
          "<b>Creating<br>Opportun<br>ities<br>for<br>Growth</b>",
          "<b>Amazon<br>Prime</b>",
          "<b>Expandin<br>g<br>Benefits</b>",
          "<b>Driving<br>Customer<br>Loyalty</b>",
          "<b>Amazon<br>Web<br>Services<br>(AWS)</b>",
          "<b>Scalabil<br>ity and <br>Reliabil<br>ity</b>",
          "<b>Empoweri<br>ng Busin<br>esses</b>",
          "<b>Social R<br>esponsib<br>ility</b>",
          "<b>Sustaina<br>bility<br>and Envi<br>ronmenta<br>l Initia<br>tives</b>",
          "<b>Employee<br>Welfare<br>and Fair<br>Labor Pr<br>actices</b>",
          "<b>Communit<br>y<br>Support</b>",
          "<b>Hiring<br>and<br>Employee<br>Developm<br>ent</b>",
          "<b>Attracti<br>ng and R<br>etaining<br>Talent</b>",
          "<b>Providin<br>g Career<br>Opportun<br>ities</b>",
          "<b>Data-<br>Driven<br>Decision<br>Making</b>",
          "<b>Analytic<br>s</b>",
          "<b>Experime<br>nts and<br>AB<br>Testing</b>",
          "<b>Amazon</b>",
          "<b>Customer<br>s</b>",
          "<b>Jeffrey<br>P. Bezos</b>",
          "<b>Sharehol<br>ders</b>",
          "<b>AWS</b>",
          "<b>Employee<br>s</b>",
          "<b>Prime</b>",
          "<b>Amazon.c<br>om, Inc.</b>",
          "<b>Kindle</b>",
          "<b>Marketpl<br>ace</b>",
          "<b>Amazon<br>Web<br>Services</b>",
          "<b>Amazonia<br>ns</b>",
          "<b>Fulfillm<br>ent by<br>Amazon</b>",
          "<b>Amazon<br>Fresh</b>",
          "<b>Echo</b>",
          "<b>Alexa</b>",
          "<b>Kindle<br>Direct P<br>ublishin<br>g</b>",
          "<b>Prime<br>Instant<br>Video</b>",
          "<b>Shareown<br>ers</b>",
          "<b>Seattle</b>",
          "<b>RJF<br>Books<br>and More</b>",
          "<b>EasyLunc<br>hboxes</b>",
          "<b>Whispers<br>ync</b>",
          "<b>Christop<br>her<br>Tholen</b>",
          "<b>Kelly<br>Lester</b>",
          "<b>Bob<br>Frank</b>",
          "<b>A. K. Al<br>exander</b>",
          "<b>Blake<br>Crouch</b>",
          "<b>Theresa<br>Ragan</b>",
          "<b>Robert B<br>idinotto</b>",
          "<b>Andy<br>Jassy</b>",
          "<b>BandPage</b>"
         ],
         "textfont": {
          "size": [
           9,
           8.1,
           8.1,
           8.1,
           9,
           8.1,
           8.1,
           7.2,
           6.3,
           8.1,
           7.2,
           7.2,
           7.2,
           7.2,
           6.3,
           6.3,
           7.2,
           6.3,
           7.2,
           6.3,
           6.3,
           7.2,
           7.2,
           6.3,
           6.3,
           7.2,
           6.3,
           6.3,
           6.3,
           7.2,
           6.3,
           6.3,
           6.3,
           6.3,
           9,
           8.1,
           8.1,
           7.2,
           7.2,
           7.2,
           6.3,
           6.3,
           5.4,
           5.4,
           5.4,
           5.4,
           5.4,
           5,
           5,
           5,
           5,
           5,
           5,
           5,
           5,
           5,
           5,
           5,
           5,
           5,
           5,
           5,
           5,
           5,
           5,
           5
          ]
         },
         "textposition": "middle center",
         "type": "scatter",
         "x": [
          -0.4791679811634959,
          -0.1433357282821679,
          -0.5090013075555144,
          -0.7527928533915178,
          -0.433796718031674,
          -0.5772292518031671,
          -0.1550044809182097,
          -0.6895467269074131,
          -0.7048887087415026,
          0.11780306146079167,
          0.38369072971271223,
          -0.1957414569975855,
          0.281666411954202,
          -0.053964706157417025,
          0.3705538288057576,
          -0.39777310077006733,
          -0.40189148853606194,
          -0.18151700922140038,
          -0.16456578906422603,
          0.14760649584184227,
          -0.3517779266994053,
          -0.6312196965293255,
          -0.5375452626770896,
          -0.4301047365985215,
          0.6136397447221436,
          0.9900339807710891,
          0.8474159257270345,
          0.4977770483502336,
          -0.821656188301289,
          -0.9330844793152161,
          -0.5866395258219349,
          0.07566988483602251,
          0.027979895163181345,
          -0.032165263325127036,
          0.5783786784405828,
          0.7521800376741646,
          -1,
          0.5820137247333661,
          0.5120083611199802,
          0.1814665461442606,
          0.9372878821240639,
          -0.5287986412498498,
          -0.6474713718894045,
          0.7176293760900028,
          0.9857543971032955,
          0.019689135835180796,
          0.9408640754743546,
          0.9038859714201999,
          0.9323776467014772,
          -0.7646412752282112,
          -0.9998178577460376,
          -0.8990453310702076,
          0.8723210047557555,
          0.058888796818922146,
          0.07624330945204832,
          -0.020986221809260616,
          0.9022489884394889,
          0.45240074956374177,
          0.3695892207411304,
          0.3453514904958086,
          0.43481299453586614,
          -0.049310656481107745,
          -0.8601508316249091,
          0.6384102819412485,
          -0.9851845641003399,
          0.3721774610587077
         ],
         "y": [
          0.6136795709936287,
          0.6360359255344431,
          0.3935757281071383,
          0.6810880278228068,
          -0.13753527296797027,
          0.11287581233354045,
          -0.1398071330979882,
          -0.23703116899185792,
          0.02033756181163419,
          -0.9024607681578617,
          -0.9296862351141146,
          -0.8294607872039866,
          -0.3565125232391766,
          -0.24710943430836788,
          -0.6770795487426915,
          0.17804073468583345,
          0.43623653300497134,
          0.0618758016197168,
          -0.7295097971883103,
          -0.8445072538396884,
          -0.4976311478108571,
          0.806572718126296,
          0.8001693972005961,
          0.7763418616538674,
          0.36697650458041114,
          0.24093348963076147,
          0.6010512698869972,
          0.6883507805830085,
          -0.5785731024471418,
          -0.3683364307513676,
          -0.7489440351692069,
          0.5723522954745235,
          0.6606349054026307,
          0.9611338321992338,
          0.32779311448798976,
          0.17935581728021693,
          0.13737365378255417,
          0.7103116420144151,
          -0.0913226101605645,
          -0.9815904598321091,
          0.3663651931842779,
          -0.05545622016052994,
          -0.7226860336925874,
          0.6147834270052438,
          -0.21644495293420857,
          0.3790776453578317,
          0.2891926840029634,
          -0.3748464527397978,
          -0.06907984831966472,
          -0.7030061187905438,
          0.01573167222908774,
          0.11880661945919238,
          -0.531022919313738,
          0.9491249852608273,
          -0.895692202236598,
          -0.9140781226918142,
          0.4971563077248565,
          0.5916114485473152,
          -0.8796177464538777,
          -0.6246834536017045,
          0.9151757759137165,
          -0.9858099268024154,
          -0.41485766169032134,
          0.7949453519955536,
          -0.15134602973720807,
          0.3406573092901892
         ]
        }
       ],
       "layout": {
        "hovermode": "closest",
        "margin": {
         "b": 0,
         "l": 0,
         "r": 0,
         "t": 40
        },
        "showlegend": false,
        "template": {
         "data": {
          "bar": [
           {
            "error_x": {
             "color": "#2a3f5f"
            },
            "error_y": {
             "color": "#2a3f5f"
            },
            "marker": {
             "line": {
              "color": "#E5ECF6",
              "width": 0.5
             },
             "pattern": {
              "fillmode": "overlay",
              "size": 10,
              "solidity": 0.2
             }
            },
            "type": "bar"
           }
          ],
          "barpolar": [
           {
            "marker": {
             "line": {
              "color": "#E5ECF6",
              "width": 0.5
             },
             "pattern": {
              "fillmode": "overlay",
              "size": 10,
              "solidity": 0.2
             }
            },
            "type": "barpolar"
           }
          ],
          "carpet": [
           {
            "aaxis": {
             "endlinecolor": "#2a3f5f",
             "gridcolor": "white",
             "linecolor": "white",
             "minorgridcolor": "white",
             "startlinecolor": "#2a3f5f"
            },
            "baxis": {
             "endlinecolor": "#2a3f5f",
             "gridcolor": "white",
             "linecolor": "white",
             "minorgridcolor": "white",
             "startlinecolor": "#2a3f5f"
            },
            "type": "carpet"
           }
          ],
          "choropleth": [
           {
            "colorbar": {
             "outlinewidth": 0,
             "ticks": ""
            },
            "type": "choropleth"
           }
          ],
          "contour": [
           {
            "colorbar": {
             "outlinewidth": 0,
             "ticks": ""
            },
            "colorscale": [
             [
              0,
              "#0d0887"
             ],
             [
              0.1111111111111111,
              "#46039f"
             ],
             [
              0.2222222222222222,
              "#7201a8"
             ],
             [
              0.3333333333333333,
              "#9c179e"
             ],
             [
              0.4444444444444444,
              "#bd3786"
             ],
             [
              0.5555555555555556,
              "#d8576b"
             ],
             [
              0.6666666666666666,
              "#ed7953"
             ],
             [
              0.7777777777777778,
              "#fb9f3a"
             ],
             [
              0.8888888888888888,
              "#fdca26"
             ],
             [
              1,
              "#f0f921"
             ]
            ],
            "type": "contour"
           }
          ],
          "contourcarpet": [
           {
            "colorbar": {
             "outlinewidth": 0,
             "ticks": ""
            },
            "type": "contourcarpet"
           }
          ],
          "heatmap": [
           {
            "colorbar": {
             "outlinewidth": 0,
             "ticks": ""
            },
            "colorscale": [
             [
              0,
              "#0d0887"
             ],
             [
              0.1111111111111111,
              "#46039f"
             ],
             [
              0.2222222222222222,
              "#7201a8"
             ],
             [
              0.3333333333333333,
              "#9c179e"
             ],
             [
              0.4444444444444444,
              "#bd3786"
             ],
             [
              0.5555555555555556,
              "#d8576b"
             ],
             [
              0.6666666666666666,
              "#ed7953"
             ],
             [
              0.7777777777777778,
              "#fb9f3a"
             ],
             [
              0.8888888888888888,
              "#fdca26"
             ],
             [
              1,
              "#f0f921"
             ]
            ],
            "type": "heatmap"
           }
          ],
          "histogram": [
           {
            "marker": {
             "pattern": {
              "fillmode": "overlay",
              "size": 10,
              "solidity": 0.2
             }
            },
            "type": "histogram"
           }
          ],
          "histogram2d": [
           {
            "colorbar": {
             "outlinewidth": 0,
             "ticks": ""
            },
            "colorscale": [
             [
              0,
              "#0d0887"
             ],
             [
              0.1111111111111111,
              "#46039f"
             ],
             [
              0.2222222222222222,
              "#7201a8"
             ],
             [
              0.3333333333333333,
              "#9c179e"
             ],
             [
              0.4444444444444444,
              "#bd3786"
             ],
             [
              0.5555555555555556,
              "#d8576b"
             ],
             [
              0.6666666666666666,
              "#ed7953"
             ],
             [
              0.7777777777777778,
              "#fb9f3a"
             ],
             [
              0.8888888888888888,
              "#fdca26"
             ],
             [
              1,
              "#f0f921"
             ]
            ],
            "type": "histogram2d"
           }
          ],
          "histogram2dcontour": [
           {
            "colorbar": {
             "outlinewidth": 0,
             "ticks": ""
            },
            "colorscale": [
             [
              0,
              "#0d0887"
             ],
             [
              0.1111111111111111,
              "#46039f"
             ],
             [
              0.2222222222222222,
              "#7201a8"
             ],
             [
              0.3333333333333333,
              "#9c179e"
             ],
             [
              0.4444444444444444,
              "#bd3786"
             ],
             [
              0.5555555555555556,
              "#d8576b"
             ],
             [
              0.6666666666666666,
              "#ed7953"
             ],
             [
              0.7777777777777778,
              "#fb9f3a"
             ],
             [
              0.8888888888888888,
              "#fdca26"
             ],
             [
              1,
              "#f0f921"
             ]
            ],
            "type": "histogram2dcontour"
           }
          ],
          "mesh3d": [
           {
            "colorbar": {
             "outlinewidth": 0,
             "ticks": ""
            },
            "type": "mesh3d"
           }
          ],
          "parcoords": [
           {
            "line": {
             "colorbar": {
              "outlinewidth": 0,
              "ticks": ""
             }
            },
            "type": "parcoords"
           }
          ],
          "pie": [
           {
            "automargin": true,
            "type": "pie"
           }
          ],
          "scatter": [
           {
            "fillpattern": {
             "fillmode": "overlay",
             "size": 10,
             "solidity": 0.2
            },
            "type": "scatter"
           }
          ],
          "scatter3d": [
           {
            "line": {
             "colorbar": {
              "outlinewidth": 0,
              "ticks": ""
             }
            },
            "marker": {
             "colorbar": {
              "outlinewidth": 0,
              "ticks": ""
             }
            },
            "type": "scatter3d"
           }
          ],
          "scattercarpet": [
           {
            "marker": {
             "colorbar": {
              "outlinewidth": 0,
              "ticks": ""
             }
            },
            "type": "scattercarpet"
           }
          ],
          "scattergeo": [
           {
            "marker": {
             "colorbar": {
              "outlinewidth": 0,
              "ticks": ""
             }
            },
            "type": "scattergeo"
           }
          ],
          "scattergl": [
           {
            "marker": {
             "colorbar": {
              "outlinewidth": 0,
              "ticks": ""
             }
            },
            "type": "scattergl"
           }
          ],
          "scattermap": [
           {
            "marker": {
             "colorbar": {
              "outlinewidth": 0,
              "ticks": ""
             }
            },
            "type": "scattermap"
           }
          ],
          "scattermapbox": [
           {
            "marker": {
             "colorbar": {
              "outlinewidth": 0,
              "ticks": ""
             }
            },
            "type": "scattermapbox"
           }
          ],
          "scatterpolar": [
           {
            "marker": {
             "colorbar": {
              "outlinewidth": 0,
              "ticks": ""
             }
            },
            "type": "scatterpolar"
           }
          ],
          "scatterpolargl": [
           {
            "marker": {
             "colorbar": {
              "outlinewidth": 0,
              "ticks": ""
             }
            },
            "type": "scatterpolargl"
           }
          ],
          "scatterternary": [
           {
            "marker": {
             "colorbar": {
              "outlinewidth": 0,
              "ticks": ""
             }
            },
            "type": "scatterternary"
           }
          ],
          "surface": [
           {
            "colorbar": {
             "outlinewidth": 0,
             "ticks": ""
            },
            "colorscale": [
             [
              0,
              "#0d0887"
             ],
             [
              0.1111111111111111,
              "#46039f"
             ],
             [
              0.2222222222222222,
              "#7201a8"
             ],
             [
              0.3333333333333333,
              "#9c179e"
             ],
             [
              0.4444444444444444,
              "#bd3786"
             ],
             [
              0.5555555555555556,
              "#d8576b"
             ],
             [
              0.6666666666666666,
              "#ed7953"
             ],
             [
              0.7777777777777778,
              "#fb9f3a"
             ],
             [
              0.8888888888888888,
              "#fdca26"
             ],
             [
              1,
              "#f0f921"
             ]
            ],
            "type": "surface"
           }
          ],
          "table": [
           {
            "cells": {
             "fill": {
              "color": "#EBF0F8"
             },
             "line": {
              "color": "white"
             }
            },
            "header": {
             "fill": {
              "color": "#C8D4E3"
             },
             "line": {
              "color": "white"
             }
            },
            "type": "table"
           }
          ]
         },
         "layout": {
          "annotationdefaults": {
           "arrowcolor": "#2a3f5f",
           "arrowhead": 0,
           "arrowwidth": 1
          },
          "autotypenumbers": "strict",
          "coloraxis": {
           "colorbar": {
            "outlinewidth": 0,
            "ticks": ""
           }
          },
          "colorscale": {
           "diverging": [
            [
             0,
             "#8e0152"
            ],
            [
             0.1,
             "#c51b7d"
            ],
            [
             0.2,
             "#de77ae"
            ],
            [
             0.3,
             "#f1b6da"
            ],
            [
             0.4,
             "#fde0ef"
            ],
            [
             0.5,
             "#f7f7f7"
            ],
            [
             0.6,
             "#e6f5d0"
            ],
            [
             0.7,
             "#b8e186"
            ],
            [
             0.8,
             "#7fbc41"
            ],
            [
             0.9,
             "#4d9221"
            ],
            [
             1,
             "#276419"
            ]
           ],
           "sequential": [
            [
             0,
             "#0d0887"
            ],
            [
             0.1111111111111111,
             "#46039f"
            ],
            [
             0.2222222222222222,
             "#7201a8"
            ],
            [
             0.3333333333333333,
             "#9c179e"
            ],
            [
             0.4444444444444444,
             "#bd3786"
            ],
            [
             0.5555555555555556,
             "#d8576b"
            ],
            [
             0.6666666666666666,
             "#ed7953"
            ],
            [
             0.7777777777777778,
             "#fb9f3a"
            ],
            [
             0.8888888888888888,
             "#fdca26"
            ],
            [
             1,
             "#f0f921"
            ]
           ],
           "sequentialminus": [
            [
             0,
             "#0d0887"
            ],
            [
             0.1111111111111111,
             "#46039f"
            ],
            [
             0.2222222222222222,
             "#7201a8"
            ],
            [
             0.3333333333333333,
             "#9c179e"
            ],
            [
             0.4444444444444444,
             "#bd3786"
            ],
            [
             0.5555555555555556,
             "#d8576b"
            ],
            [
             0.6666666666666666,
             "#ed7953"
            ],
            [
             0.7777777777777778,
             "#fb9f3a"
            ],
            [
             0.8888888888888888,
             "#fdca26"
            ],
            [
             1,
             "#f0f921"
            ]
           ]
          },
          "colorway": [
           "#636efa",
           "#EF553B",
           "#00cc96",
           "#ab63fa",
           "#FFA15A",
           "#19d3f3",
           "#FF6692",
           "#B6E880",
           "#FF97FF",
           "#FECB52"
          ],
          "font": {
           "color": "#2a3f5f"
          },
          "geo": {
           "bgcolor": "white",
           "lakecolor": "white",
           "landcolor": "#E5ECF6",
           "showlakes": true,
           "showland": true,
           "subunitcolor": "white"
          },
          "hoverlabel": {
           "align": "left"
          },
          "hovermode": "closest",
          "mapbox": {
           "style": "light"
          },
          "paper_bgcolor": "white",
          "plot_bgcolor": "#E5ECF6",
          "polar": {
           "angularaxis": {
            "gridcolor": "white",
            "linecolor": "white",
            "ticks": ""
           },
           "bgcolor": "#E5ECF6",
           "radialaxis": {
            "gridcolor": "white",
            "linecolor": "white",
            "ticks": ""
           }
          },
          "scene": {
           "xaxis": {
            "backgroundcolor": "#E5ECF6",
            "gridcolor": "white",
            "gridwidth": 2,
            "linecolor": "white",
            "showbackground": true,
            "ticks": "",
            "zerolinecolor": "white"
           },
           "yaxis": {
            "backgroundcolor": "#E5ECF6",
            "gridcolor": "white",
            "gridwidth": 2,
            "linecolor": "white",
            "showbackground": true,
            "ticks": "",
            "zerolinecolor": "white"
           },
           "zaxis": {
            "backgroundcolor": "#E5ECF6",
            "gridcolor": "white",
            "gridwidth": 2,
            "linecolor": "white",
            "showbackground": true,
            "ticks": "",
            "zerolinecolor": "white"
           }
          },
          "shapedefaults": {
           "line": {
            "color": "#2a3f5f"
           }
          },
          "ternary": {
           "aaxis": {
            "gridcolor": "white",
            "linecolor": "white",
            "ticks": ""
           },
           "baxis": {
            "gridcolor": "white",
            "linecolor": "white",
            "ticks": ""
           },
           "bgcolor": "#E5ECF6",
           "caxis": {
            "gridcolor": "white",
            "linecolor": "white",
            "ticks": ""
           }
          },
          "title": {
           "x": 0.05
          },
          "xaxis": {
           "automargin": true,
           "gridcolor": "white",
           "linecolor": "white",
           "ticks": "",
           "title": {
            "standoff": 15
           },
           "zerolinecolor": "white",
           "zerolinewidth": 2
          },
          "yaxis": {
           "automargin": true,
           "gridcolor": "white",
           "linecolor": "white",
           "ticks": "",
           "title": {
            "standoff": 15
           },
           "zerolinecolor": "white",
           "zerolinewidth": 2
          }
         }
        },
        "title": {
         "text": "Interactive Narrative Genome Graph (Zoom & Pan Enabled)"
        },
        "xaxis": {
         "showgrid": false,
         "showticklabels": false,
         "zeroline": false
        },
        "yaxis": {
         "showgrid": false,
         "showticklabels": false,
         "zeroline": false
        }
       }
      }
     },
     "metadata": {},
     "output_type": "display_data"
    }
   ],
   "source": [
    "import json\n",
    "import networkx as nx\n",
    "import plotly.graph_objects as go\n",
    "import plotly.express as px\n",
    "import textwrap\n",
    "\n",
    "# Load JSON file\n",
    "with open(\"narrative_genome_amazon.json\", \"r\") as f:\n",
    "    data = json.load(f)\n",
    "\n",
    "# Create graph\n",
    "G = nx.Graph()\n",
    "\n",
    "# Extract unique node types for color mapping\n",
    "unique_types = list(set(node[\"type\"] for node in data[\"nodes\"]))\n",
    "color_map = {t: px.colors.qualitative.Plotly[i % len(px.colors.qualitative.Plotly)] for i, t in enumerate(unique_types)}\n",
    "\n",
    "# Add nodes with importance as node size and color based on type\n",
    "for node in data[\"nodes\"]:\n",
    "    importance = node.get(\"importance\") #get the importance, or None.\n",
    "    if importance is not None:\n",
    "        importance = float(importance)  # Convert importance to float\n",
    "    else:\n",
    "        importance = 2.0 #give a default importance.\n",
    "    G.add_node(node[\"id\"], size=importance, type=node[\"type\"], color=color_map[node[\"type\"]])\n",
    "\n",
    "\n",
    "# Add edges with importance as edge width\n",
    "for edge in data[\"edges\"]:\n",
    "    weight = float(edge[\"importance\"])  # Convert importance to float\n",
    "    G.add_edge(edge[\"source\"], edge[\"target\"], weight=weight)\n",
    "\n",
    "# Get positions using force-directed layout with more spread\n",
    "pos = nx.spring_layout(G, k=1.5, iterations=100, seed=42)  # Increased k for more spread\n",
    "\n",
    "# Extract node and edge data for Plotly\n",
    "node_x, node_y, node_sizes, node_colors, node_labels, node_font_sizes = [], [], [], [], [], []\n",
    "for node in G.nodes():\n",
    "    x, y = pos[node]\n",
    "    node_x.append(x)\n",
    "    node_y.append(y)\n",
    "    node_sizes.append(G.nodes[node].get(\"size\", 1) * 5)  # Reduce size scaling\n",
    "    node_colors.append(G.nodes[node].get(\"color\", \"grey\"))\n",
    "    # Wrap node labels to fit within nodes\n",
    "    wrapped_label = \"<b>\" + \"<br>\".join(textwrap.wrap(node, width=8)) + \"</b>\"  # Reduced width, bold text\n",
    "    node_labels.append(wrapped_label)\n",
    "    # Shrink font size based on node size (importance)\n",
    "    font_size = max(5, min(10, G.nodes[node].get(\"size\", 1) * 0.9))  # Further reduced font sizes and multiplier\n",
    "    node_font_sizes.append(font_size)\n",
    "\n",
    "# Create Plotly figure\n",
    "fig = go.Figure()\n",
    "\n",
    "# Add edges (one trace per edge)\n",
    "for edge in G.edges():\n",
    "    x0, y0 = pos[edge[0]]\n",
    "    x1, y1 = pos[edge[1]]\n",
    "    width = G.edges[edge]['weight'] * 0.5 #scale down the edge width.\n",
    "    fig.add_trace(go.Scatter(\n",
    "        x=[x0, x1],\n",
    "        y=[y0, y1],\n",
    "        line=dict(width=width, color='gray'),\n",
    "        hoverinfo='none',\n",
    "        mode='lines'\n",
    "    ))\n",
    "\n",
    "# Add nodes with labels inside\n",
    "fig.add_trace(go.Scatter(\n",
    "    x=node_x, y=node_y,\n",
    "    mode='markers+text',\n",
    "    text=node_labels,\n",
    "    textposition=\"middle center\",  # Position text inside nodes\n",
    "    hoverinfo='text',\n",
    "    textfont=dict(size=node_font_sizes),  # Apply dynamic font sizes\n",
    "    marker=dict(\n",
    "        size=node_sizes,\n",
    "        color=node_colors,\n",
    "        opacity=0.8,\n",
    "        line=dict(width=2, color='black')\n",
    "    )\n",
    "))\n",
    "\n",
    "# Update layout for better interactivity\n",
    "fig.update_layout(\n",
    "    title=\"Interactive Narrative Genome Graph (Zoom & Pan Enabled)\",\n",
    "    showlegend=False,\n",
    "    hovermode='closest',\n",
    "    margin=dict(b=0, l=0, r=0, t=40),\n",
    "    xaxis=dict(showgrid=False, zeroline=False, showticklabels=False),\n",
    "    yaxis=dict(showgrid=False, zeroline=False, showticklabels=False),\n",
    ")\n",
    "\n",
    "# Show interactive plot\n",
    "fig.show()\n"
   ]
  }
 ],
 "metadata": {
  "kernelspec": {
   "display_name": ".venv",
   "language": "python",
   "name": "python3"
  },
  "language_info": {
   "codemirror_mode": {
    "name": "ipython",
    "version": 3
   },
   "file_extension": ".py",
   "mimetype": "text/x-python",
   "name": "python",
   "nbconvert_exporter": "python",
   "pygments_lexer": "ipython3",
   "version": "3.12.3"
  }
 },
 "nbformat": 4,
 "nbformat_minor": 2
}
