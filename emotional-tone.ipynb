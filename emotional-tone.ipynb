{
 "cells": [
  {
   "cell_type": "code",
   "execution_count": 1,
   "metadata": {},
   "outputs": [
    {
     "name": "stdout",
     "output_type": "stream",
     "text": [
      "Requirement already satisfied: google-generativeai in /opt/homebrew/lib/python3.13/site-packages (0.8.4)\n",
      "Requirement already satisfied: google-ai-generativelanguage==0.6.15 in /opt/homebrew/lib/python3.13/site-packages (from google-generativeai) (0.6.15)\n",
      "Requirement already satisfied: google-api-core in /opt/homebrew/lib/python3.13/site-packages (from google-generativeai) (2.24.1)\n",
      "Requirement already satisfied: google-api-python-client in /opt/homebrew/lib/python3.13/site-packages (from google-generativeai) (2.162.0)\n",
      "Requirement already satisfied: google-auth>=2.15.0 in /opt/homebrew/lib/python3.13/site-packages (from google-generativeai) (2.38.0)\n",
      "Requirement already satisfied: protobuf in /opt/homebrew/lib/python3.13/site-packages (from google-generativeai) (5.29.3)\n",
      "Requirement already satisfied: pydantic in /opt/homebrew/lib/python3.13/site-packages (from google-generativeai) (2.10.6)\n",
      "Requirement already satisfied: tqdm in /opt/homebrew/lib/python3.13/site-packages (from google-generativeai) (4.67.1)\n",
      "Requirement already satisfied: typing-extensions in /opt/homebrew/lib/python3.13/site-packages (from google-generativeai) (4.12.2)\n",
      "Requirement already satisfied: proto-plus<2.0.0dev,>=1.22.3 in /opt/homebrew/lib/python3.13/site-packages (from google-ai-generativelanguage==0.6.15->google-generativeai) (1.26.0)\n",
      "Requirement already satisfied: googleapis-common-protos<2.0.dev0,>=1.56.2 in /opt/homebrew/lib/python3.13/site-packages (from google-api-core->google-generativeai) (1.69.0)\n",
      "Requirement already satisfied: requests<3.0.0.dev0,>=2.18.0 in /opt/homebrew/lib/python3.13/site-packages (from google-api-core->google-generativeai) (2.32.3)\n",
      "Requirement already satisfied: cachetools<6.0,>=2.0.0 in /opt/homebrew/lib/python3.13/site-packages (from google-auth>=2.15.0->google-generativeai) (5.5.2)\n",
      "Requirement already satisfied: pyasn1-modules>=0.2.1 in /opt/homebrew/lib/python3.13/site-packages (from google-auth>=2.15.0->google-generativeai) (0.4.1)\n",
      "Requirement already satisfied: rsa<5,>=3.1.4 in /opt/homebrew/lib/python3.13/site-packages (from google-auth>=2.15.0->google-generativeai) (4.9)\n",
      "Requirement already satisfied: httplib2<1.dev0,>=0.19.0 in /opt/homebrew/lib/python3.13/site-packages (from google-api-python-client->google-generativeai) (0.22.0)\n",
      "Requirement already satisfied: google-auth-httplib2<1.0.0,>=0.2.0 in /opt/homebrew/lib/python3.13/site-packages (from google-api-python-client->google-generativeai) (0.2.0)\n",
      "Requirement already satisfied: uritemplate<5,>=3.0.1 in /opt/homebrew/lib/python3.13/site-packages (from google-api-python-client->google-generativeai) (4.1.1)\n",
      "Requirement already satisfied: annotated-types>=0.6.0 in /opt/homebrew/lib/python3.13/site-packages (from pydantic->google-generativeai) (0.7.0)\n",
      "Requirement already satisfied: pydantic-core==2.27.2 in /opt/homebrew/lib/python3.13/site-packages (from pydantic->google-generativeai) (2.27.2)\n",
      "Requirement already satisfied: grpcio<2.0dev,>=1.33.2 in /opt/homebrew/lib/python3.13/site-packages (from google-api-core[grpc]!=2.0.*,!=2.1.*,!=2.10.*,!=2.2.*,!=2.3.*,!=2.4.*,!=2.5.*,!=2.6.*,!=2.7.*,!=2.8.*,!=2.9.*,<3.0.0dev,>=1.34.1->google-ai-generativelanguage==0.6.15->google-generativeai) (1.71.0rc2)\n",
      "Requirement already satisfied: grpcio-status<2.0.dev0,>=1.33.2 in /opt/homebrew/lib/python3.13/site-packages (from google-api-core[grpc]!=2.0.*,!=2.1.*,!=2.10.*,!=2.2.*,!=2.3.*,!=2.4.*,!=2.5.*,!=2.6.*,!=2.7.*,!=2.8.*,!=2.9.*,<3.0.0dev,>=1.34.1->google-ai-generativelanguage==0.6.15->google-generativeai) (1.71.0rc2)\n",
      "Requirement already satisfied: pyparsing!=3.0.0,!=3.0.1,!=3.0.2,!=3.0.3,<4,>=2.4.2 in /opt/homebrew/lib/python3.13/site-packages (from httplib2<1.dev0,>=0.19.0->google-api-python-client->google-generativeai) (3.2.1)\n",
      "Requirement already satisfied: pyasn1<0.7.0,>=0.4.6 in /opt/homebrew/lib/python3.13/site-packages (from pyasn1-modules>=0.2.1->google-auth>=2.15.0->google-generativeai) (0.6.1)\n",
      "Requirement already satisfied: charset-normalizer<4,>=2 in /opt/homebrew/lib/python3.13/site-packages (from requests<3.0.0.dev0,>=2.18.0->google-api-core->google-generativeai) (3.4.1)\n",
      "Requirement already satisfied: idna<4,>=2.5 in /opt/homebrew/lib/python3.13/site-packages (from requests<3.0.0.dev0,>=2.18.0->google-api-core->google-generativeai) (3.10)\n",
      "Requirement already satisfied: urllib3<3,>=1.21.1 in /opt/homebrew/lib/python3.13/site-packages (from requests<3.0.0.dev0,>=2.18.0->google-api-core->google-generativeai) (2.3.0)\n",
      "Requirement already satisfied: certifi>=2017.4.17 in /opt/homebrew/lib/python3.13/site-packages (from requests<3.0.0.dev0,>=2.18.0->google-api-core->google-generativeai) (2025.1.31)\n",
      "Requirement already satisfied: python-dotenv in /opt/homebrew/lib/python3.13/site-packages (1.0.1)\n"
     ]
    }
   ],
   "source": [
    "!pip install google-generativeai\n",
    "!pip install python-dotenv"
   ]
  },
  {
   "cell_type": "code",
   "execution_count": 3,
   "metadata": {},
   "outputs": [
    {
     "name": "stdout",
     "output_type": "stream",
     "text": [
      "{'optimism': 8}\n"
     ]
    }
   ],
   "source": [
    "import google.generativeai as genai\n",
    "import json\n",
    "import re\n",
    "import os\n",
    "from dotenv import load_dotenv\n",
    "\n",
    "load_dotenv()\n",
    "\n",
    "# Set your API key\n",
    "ci_api_key = os.getenv(\"CI_API_KEY\")\n",
    "\n",
    "# Configure the API key\n",
    "genai.configure(api_key=ci_api_key)\n",
    "\n",
    "# Function to detect emotional tone and assign one overall emotion\n",
    "def generate_emotion(text):\n",
    "    model = genai.GenerativeModel(\"gemini-2.0-flash\")  # Define the model\n",
    "\n",
    "    # Define input text\n",
    "    input_text = f\"\"\"\n",
    "    Analyze the emotional tone in the following financial text and categorize the emotions into the following categories:\n",
    "    optimism, anxiety, sadness, surprise, neutral, anger/disgust. \n",
    "    Please output the emotion for each category, with a confidence score between 1 and 10 for each emotion. \n",
    "    If a category is not present in the text, do not include it in the response.\n",
    "\n",
    "    The text is:\n",
    "    {text}\n",
    "\n",
    "    The output should be in the following format:\n",
    "    {{\n",
    "        \"optimism\": confidence_score (1-10),\n",
    "        \"anxiety\": confidence_score (1-10),\n",
    "        \"sadness\": confidence_score (1-10),\n",
    "        \"surprise\": confidence_score (1-10),\n",
    "        \"neutral\": confidence_score (1-10),\n",
    "        \"anger_disgust\": confidence_score (1-10)\n",
    "    }}\n",
    "    \"\"\"\n",
    "\n",
    "    # Generate content from model\n",
    "    response = model.generate_content(input_text)\n",
    "\n",
    "    # Combine response text\n",
    "    response_text = \"\".join([chunk.text for chunk in response])\n",
    "\n",
    "    # Clean up the response\n",
    "    cleaned_text = re.sub(r\"```json|```\", \"\", response_text).strip()\n",
    "\n",
    "    # Convert response to JSON\n",
    "    try:\n",
    "        output_json = json.loads(cleaned_text)\n",
    "    except json.JSONDecodeError:\n",
    "        output_json = {\"error\": \"Invalid JSON output from model\", \"raw_response\": response_text}\n",
    "\n",
    "    # Find the emotion with the highest confidence score\n",
    "    if \"error\" not in output_json:\n",
    "        # Find the emotion with the highest confidence score\n",
    "        max_emotion = max(output_json, key=output_json.get)\n",
    "        overall_emotion = {max_emotion: output_json[max_emotion]}\n",
    "        return overall_emotion\n",
    "    else:\n",
    "        return output_json  # Return the error message if JSON was not valid\n",
    "\n",
    "# Example usage\n",
    "text = \"The stock market showed significant growth today, and investors are optimistic about the future despite some minor concerns.\"\n",
    "\n",
    "emotion_output = generate_emotion(text)\n",
    "print(emotion_output)\n"
   ]
  }
 ],
 "metadata": {
  "kernelspec": {
   "display_name": "Python 3",
   "language": "python",
   "name": "python3"
  },
  "language_info": {
   "codemirror_mode": {
    "name": "ipython",
    "version": 3
   },
   "file_extension": ".py",
   "mimetype": "text/x-python",
   "name": "python",
   "nbconvert_exporter": "python",
   "pygments_lexer": "ipython3",
   "version": "3.13.2"
  }
 },
 "nbformat": 4,
 "nbformat_minor": 2
}
