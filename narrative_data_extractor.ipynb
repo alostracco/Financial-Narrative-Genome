{
 "cells": [
  {
   "cell_type": "code",
   "execution_count": null,
   "metadata": {},
   "outputs": [],
   "source": [
    "!pip install yfinance\n",
    "!pip install requests"
   ]
  },
  {
   "cell_type": "markdown",
   "metadata": {},
   "source": [
    "Gather Stock Data"
   ]
  },
  {
   "cell_type": "code",
   "execution_count": 22,
   "metadata": {},
   "outputs": [
    {
     "name": "stderr",
     "output_type": "stream",
     "text": [
      "[*********************100%***********************]  1 of 1 completed"
     ]
    },
    {
     "name": "stdout",
     "output_type": "stream",
     "text": [
      "Price        date stock_price  year  optimism   anxiety   sadness  surprise  \\\n",
      "Ticker                                                                        \n",
      "0      2010-01-01    6.440331  2010  5.749080  3.841911  3.669062  5.357401   \n",
      "1      2010-02-01    5.860126  2010  5.582458  4.470871  3.067430  5.715264   \n",
      "2      2010-03-01    6.289261  2010  6.368466  2.349075  2.072540  5.178318   \n",
      "3      2010-04-01    7.101188  2010  5.542698  2.125746  1.935110  3.925065   \n",
      "4      2010-05-01    8.015430  2010  5.661796  4.473415  2.612138  3.053635   \n",
      "\n",
      "Price    neutral anger_disgust  \n",
      "Ticker                          \n",
      "0       4.393373      2.564841  \n",
      "1       5.216639      4.771540  \n",
      "2       4.697012      3.025596  \n",
      "3       4.024832      4.787747  \n",
      "4       5.050352      4.670469  \n"
     ]
    },
    {
     "name": "stderr",
     "output_type": "stream",
     "text": [
      "\n",
      "/var/folders/wk/drd22rx56sq26c5q972b54cr0000gn/T/ipykernel_60369/2951289065.py:42: PerformanceWarning: dropping on a non-lexsorted multi-index without a level parameter may impact performance.\n",
      "  stock_data_monthly = stock_data.resample('MS', on='Date').first()  # 'MS' stands for Month Start\n"
     ]
    }
   ],
   "source": [
    "import yfinance as yf\n",
    "import pandas as pd\n",
    "import numpy as np\n",
    "\n",
    "# Function to fetch stock data\n",
    "def fetch_stock_data(ticker, start_date, end_date):\n",
    "    # Fetch stock data\n",
    "    stock_data = yf.download(ticker, start=start_date, end=end_date)\n",
    "    # Return only the \"Close\" prices and the Date\n",
    "    stock_data = stock_data[['Close']].reset_index()\n",
    "    return stock_data\n",
    "\n",
    "# Example: Fetch data for Apple (AAPL) from January 1, 2010 to March 1, 2025\n",
    "ticker = 'AAPL'\n",
    "start_date = '2010-01-01'\n",
    "end_date = '2025-03-01'\n",
    "stock_data = fetch_stock_data(ticker, start_date, end_date)\n",
    "\n",
    "# Placeholder emotional tone data (assuming a simple range from 0 to 10)\n",
    "# Simulate some values, in real case you would replace them with actual analysis\n",
    "np.random.seed(42)  # For reproducibility\n",
    "emotion_data = {\n",
    "    'optimism': np.random.uniform(5, 7, len(stock_data)),\n",
    "    'anxiety': np.random.uniform(2, 5, len(stock_data)),\n",
    "    'sadness': np.random.uniform(1, 4, len(stock_data)),\n",
    "    'surprise': np.random.uniform(3, 6, len(stock_data)),\n",
    "    'neutral': np.random.uniform(4, 6, len(stock_data)),\n",
    "    'anger_disgust': np.random.uniform(2, 5, len(stock_data))\n",
    "}\n",
    "\n",
    "# Add year, stock price and emotion data to the dataframe\n",
    "stock_data['year'] = stock_data['Date'].dt.year\n",
    "stock_data['optimism'] = emotion_data['optimism']\n",
    "stock_data['anxiety'] = emotion_data['anxiety']\n",
    "stock_data['sadness'] = emotion_data['sadness']\n",
    "stock_data['surprise'] = emotion_data['surprise']\n",
    "stock_data['neutral'] = emotion_data['neutral']\n",
    "stock_data['anger_disgust'] = emotion_data['anger_disgust']\n",
    "stock_data['stock_price'] = stock_data['Close']  # Renaming Close to stock_price\n",
    "\n",
    "# Resample to get only the first trading day of each month\n",
    "stock_data_monthly = stock_data.resample('MS', on='Date').first()  # 'MS' stands for Month Start\n",
    "\n",
    "# Reset the index to bring the 'Date' back as a column\n",
    "stock_data_monthly = stock_data_monthly.reset_index()\n",
    "\n",
    "# Rename 'Date' to 'date'\n",
    "stock_data_monthly = stock_data_monthly.rename(columns={'Date': 'date'})\n",
    "\n",
    "# Select the columns to match the required format\n",
    "final_data = stock_data_monthly[['date', 'stock_price', 'year', 'optimism', 'anxiety', 'sadness', 'surprise', 'neutral', 'anger_disgust']]\n",
    "\n",
    "# Save to a new CSV file (this will create a new file every time the script is run)\n",
    "final_data.to_csv('stock_data_with_emotions_monthly.csv', index=False)\n",
    "\n",
    "# Print the first few rows to verify the output\n",
    "print(final_data.head())\n"
   ]
  },
  {
   "cell_type": "markdown",
   "metadata": {},
   "source": [
    "Gathering Articles"
   ]
  },
  {
   "cell_type": "code",
   "execution_count": null,
   "metadata": {},
   "outputs": [],
   "source": [
    "import requests\n",
    "import json\n",
    "from datetime import datetime\n",
    "import time\n",
    "\n",
    "# Function to fetch articles from GNews API\n",
    "def fetch_articles_for_year(api_key, company_name, year):\n",
    "    # Set start and end dates for the year\n",
    "    start_date = f'{year}-01-01'\n",
    "    end_date = f'{year}-12-31'\n",
    "    \n",
    "    # Construct the URL\n",
    "    url = f'https://gnews.io/api/v4/search?q={company_name}&from={start_date}&to={end_date}&lang=en&max=10&token={api_key}'\n",
    "    \n",
    "    # Send the request to GNews API\n",
    "    response = requests.get(url)\n",
    "    \n",
    "    if response.status_code == 200:\n",
    "        articles = response.json()\n",
    "        return articles.get('articles', [])\n",
    "    else:\n",
    "        print(f\"Error fetching articles for {year}: {response.status_code}\")\n",
    "        return []\n",
    "\n",
    "# Function to fetch articles for each year from 2010 to now\n",
    "def fetch_articles(api_key, company_name):\n",
    "    # Get the current year\n",
    "    current_year = datetime.now().year\n",
    "    \n",
    "    all_articles = {}\n",
    "    \n",
    "    # Loop through each year from 2010 to current year\n",
    "    for year in range(2010, current_year + 1):\n",
    "        print(f\"Fetching articles for {year}...\")\n",
    "        articles = fetch_articles_for_year(api_key, company_name, year)\n",
    "        \n",
    "        if articles:\n",
    "            all_articles[year] = articles\n",
    "        else:\n",
    "            print(f\"No articles found for {year}.\")\n",
    "        \n",
    "        # Add a delay of 2 seconds between each request to avoid hitting the rate limit\n",
    "        time.sleep(2)\n",
    "    \n",
    "    return all_articles\n",
    "\n",
    "# Example usage\n",
    "api_key = os.getenv(\"NEWS_API_KEY\")\n",
    "company_name = 'Tesla'  # Replace with the company you are interested in\n",
    "\n",
    "# Fetch articles for each year\n",
    "articles_data = fetch_articles(api_key, company_name)\n",
    "\n",
    "# Print the results (first 5 articles from the first year)\n",
    "for year, articles in articles_data.items():\n",
    "    print(f\"\\nArticles from {year}:\")\n",
    "    for i, article in enumerate(articles[:5]):\n",
    "        title = article['title']\n",
    "        published_at = article['publishedAt']\n",
    "        content = article['content']  # Extract content\n",
    "        \n",
    "        # Print the title, published date, and content\n",
    "        print(f\"{i+1}. {title} - {published_at}\")\n",
    "        print(f\"Content: {content}\\n\")\n"
   ]
  }
 ],
 "metadata": {
  "kernelspec": {
   "display_name": "Python 3",
   "language": "python",
   "name": "python3"
  },
  "language_info": {
   "name": "python",
   "version": "3.13.2"
  }
 },
 "nbformat": 4,
 "nbformat_minor": 2
}
