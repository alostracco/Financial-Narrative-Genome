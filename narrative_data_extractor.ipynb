{
 "cells": [
  {
   "cell_type": "code",
   "execution_count": null,
   "metadata": {},
   "outputs": [],
   "source": [
    "!pip install yfinance\n",
    "!pip install requests"
   ]
  },
  {
   "cell_type": "markdown",
   "metadata": {},
   "source": [
    "Gather Stock Data"
   ]
  },
  {
   "cell_type": "code",
   "execution_count": null,
   "metadata": {},
   "outputs": [],
   "source": [
    "import yfinance as yf\n",
    "import pandas as pd\n",
    "\n",
    "def fetch_stock_data(ticker, start_date, end_date):\n",
    "    # Fetch stock data\n",
    "    stock_data = yf.download(ticker, start=start_date, end=end_date)\n",
    "    # Return only the \"Close\" prices\n",
    "    return stock_data['Close']\n",
    "\n",
    "# Example: Fetch data for Apple (AAPL) from January 1, 2010 to March 1, 2025\n",
    "ticker = 'AAPL'\n",
    "start_date = '2010-01-01'\n",
    "end_date = '2025-03-01'\n",
    "stock_data = fetch_stock_data(ticker, start_date, end_date)\n",
    "\n",
    "# Show only the Close prices\n",
    "print(stock_data.head())\n"
   ]
  },
  {
   "cell_type": "markdown",
   "metadata": {},
   "source": [
    "Gathering Articles"
   ]
  },
  {
   "cell_type": "code",
   "execution_count": null,
   "metadata": {},
   "outputs": [],
   "source": [
    "import requests\n",
    "import json\n",
    "from datetime import datetime\n",
    "import time\n",
    "\n",
    "# Function to fetch articles from GNews API\n",
    "def fetch_articles_for_year(api_key, company_name, year):\n",
    "    # Set start and end dates for the year\n",
    "    start_date = f'{year}-01-01'\n",
    "    end_date = f'{year}-12-31'\n",
    "    \n",
    "    # Construct the URL\n",
    "    url = f'https://gnews.io/api/v4/search?q={company_name}&from={start_date}&to={end_date}&lang=en&max=10&token={api_key}'\n",
    "    \n",
    "    # Send the request to GNews API\n",
    "    response = requests.get(url)\n",
    "    \n",
    "    if response.status_code == 200:\n",
    "        articles = response.json()\n",
    "        return articles.get('articles', [])\n",
    "    else:\n",
    "        print(f\"Error fetching articles for {year}: {response.status_code}\")\n",
    "        return []\n",
    "\n",
    "# Function to fetch articles for each year from 2010 to now\n",
    "def fetch_articles(api_key, company_name):\n",
    "    # Get the current year\n",
    "    current_year = datetime.now().year\n",
    "    \n",
    "    all_articles = {}\n",
    "    \n",
    "    # Loop through each year from 2010 to current year\n",
    "    for year in range(2010, current_year + 1):\n",
    "        print(f\"Fetching articles for {year}...\")\n",
    "        articles = fetch_articles_for_year(api_key, company_name, year)\n",
    "        \n",
    "        if articles:\n",
    "            all_articles[year] = articles\n",
    "        else:\n",
    "            print(f\"No articles found for {year}.\")\n",
    "        \n",
    "        # Add a delay of 2 seconds between each request to avoid hitting the rate limit\n",
    "        time.sleep(2)\n",
    "    \n",
    "    return all_articles\n",
    "\n",
    "# Example usage\n",
    "api_key = os.getenv(\"NEWS_API_KEY\")\n",
    "company_name = 'Tesla'  # Replace with the company you are interested in\n",
    "\n",
    "# Fetch articles for each year\n",
    "articles_data = fetch_articles(api_key, company_name)\n",
    "\n",
    "# Print the results (first 5 articles from the first year)\n",
    "for year, articles in articles_data.items():\n",
    "    print(f\"\\nArticles from {year}:\")\n",
    "    for i, article in enumerate(articles[:5]):\n",
    "        title = article['title']\n",
    "        published_at = article['publishedAt']\n",
    "        content = article['content']  # Extract content\n",
    "        \n",
    "        # Print the title, published date, and content\n",
    "        print(f\"{i+1}. {title} - {published_at}\")\n",
    "        print(f\"Content: {content}\\n\")\n"
   ]
  }
 ],
 "metadata": {
  "kernelspec": {
   "display_name": "Python 3",
   "language": "python",
   "name": "python3"
  },
  "language_info": {
   "name": "python",
   "version": "3.13.2"
  }
 },
 "nbformat": 4,
 "nbformat_minor": 2
}
